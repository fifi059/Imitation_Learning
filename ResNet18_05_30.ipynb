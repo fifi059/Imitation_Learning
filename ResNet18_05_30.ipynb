{
  "nbformat": 4,
  "nbformat_minor": 0,
  "metadata": {
    "colab": {
      "provenance": [],
      "gpuType": "L4"
    },
    "kernelspec": {
      "name": "python3",
      "display_name": "Python 3"
    },
    "language_info": {
      "name": "python"
    },
    "accelerator": "GPU"
  },
  "cells": [
    {
      "cell_type": "markdown",
      "source": [
        "### **Creating the directories for Training and Testing Data**"
      ],
      "metadata": {
        "id": "lZHt2unVL9eA"
      }
    },
    {
      "cell_type": "code",
      "source": [
        "import zipfile\n",
        "import torch\n",
        "import torch.nn as nn\n",
        "import torch.optim as optim\n",
        "from torch.utils.data import DataLoader, TensorDataset\n",
        "import numpy as np\n",
        "import cv2\n",
        "import os\n",
        "from PIL import Image\n",
        "\n",
        "test_zip_file_path = \"/content/marker_images_test.zip\"\n",
        "test_data_dir = \"/content/marker_images_test\"\n",
        "\n",
        "with zipfile.ZipFile(test_zip_file_path, 'r') as zip_ref:\n",
        "    zip_ref.extractall(test_data_dir )\n",
        "\n",
        "\n",
        "train_zip_file_path = \"/content/marker_images_train.zip\"\n",
        "train_data_dir  = \"/content/marker_images_train\"\n",
        "\n",
        "with zipfile.ZipFile(train_zip_file_path , 'r') as zip_ref:\n",
        "    zip_ref.extractall(train_data_dir )\n"
      ],
      "metadata": {
        "id": "HWTlbjyEUf6n"
      },
      "execution_count": null,
      "outputs": []
    },
    {
      "cell_type": "markdown",
      "source": [
        "### **Data Loading**"
      ],
      "metadata": {
        "id": "u73aX0ilMWbE"
      }
    },
    {
      "cell_type": "code",
      "source": [
        "def load_data(data_dir):\n",
        "    images = []\n",
        "    labels = []\n",
        "    for folder_name in os.listdir(data_dir):\n",
        "        test_folder_path = os.path.join(data_dir, folder_name)\n",
        "        if os.path.isdir(test_folder_path):\n",
        "            for subfolder_name in os.listdir(test_folder_path):\n",
        "                subfolder_path = os.path.join(test_folder_path, subfolder_name)\n",
        "                if os.path.isdir(subfolder_path):\n",
        "                    for sub_subfolder_name in os.listdir(subfolder_path):\n",
        "                        sub_subfolder_path = os.path.join(subfolder_path, sub_subfolder_name)\n",
        "                        if os.path.isdir(sub_subfolder_path):\n",
        "                            image_files = [file for file in os.listdir(sub_subfolder_path) if file.endswith('.png')]\n",
        "                            if len(image_files) != 2:\n",
        "                                continue\n",
        "                            img1 = cv2.imread(os.path.join(sub_subfolder_path, image_files[0]))\n",
        "                            img2 = cv2.imread(os.path.join(sub_subfolder_path, image_files[1]))\n",
        "                            if img1 is None or img2 is None:\n",
        "                                continue\n",
        "\n",
        "                            images.append((img1, img2))\n",
        "\n",
        "                            label_file_path = None\n",
        "                            for file in os.listdir(sub_subfolder_path):\n",
        "                                if file.endswith('.txt'):\n",
        "                                    label_file_path = os.path.join(sub_subfolder_path, file)\n",
        "                                    break\n",
        "                            if label_file_path is None or not os.path.exists(label_file_path):\n",
        "                                continue\n",
        "\n",
        "                            with open(label_file_path, 'r') as file:\n",
        "                                line_labels = []\n",
        "                                for line in file:\n",
        "                                    line_labels.append(float(line.strip()))\n",
        "                            labels.append(line_labels)\n",
        "\n",
        "    return np.array(images), np.array(labels)\n",
        "\n"
      ],
      "metadata": {
        "id": "sowf1X57VJrP"
      },
      "execution_count": null,
      "outputs": []
    },
    {
      "cell_type": "code",
      "source": [
        "test_data_directory = \"/content/marker_images_test\"\n",
        "test_images, test_labels = load_data(test_data_directory)"
      ],
      "metadata": {
        "id": "YF8H1LGNVLb4"
      },
      "execution_count": null,
      "outputs": []
    },
    {
      "cell_type": "code",
      "source": [
        "train_data_directory = \"/content/marker_images_train\"\n",
        "train_images, train_labels = load_data(train_data_directory)"
      ],
      "metadata": {
        "id": "GIoOK90wUo8h"
      },
      "execution_count": null,
      "outputs": []
    },
    {
      "cell_type": "code",
      "source": [
        "print('Shape of train_images:', train_images.shape)\n",
        "print('Shape of train_labels:', train_labels.shape)\n",
        "print('Shape of test_images:', test_images.shape)\n",
        "print('Shape of test_labels:', test_labels.shape)\n"
      ],
      "metadata": {
        "colab": {
          "base_uri": "https://localhost:8080/"
        },
        "id": "JB7SZibMUtGP",
        "outputId": "09a7c16f-8c8e-4301-bb0c-c906fbdd7705"
      },
      "execution_count": null,
      "outputs": [
        {
          "output_type": "stream",
          "name": "stdout",
          "text": [
            "Shape of train_images: (1324, 2, 640, 640, 3)\n",
            "Shape of train_labels: (1324, 2)\n",
            "Shape of test_images: (1316, 2, 640, 640, 3)\n",
            "Shape of test_labels: (1316, 2)\n"
          ]
        }
      ]
    },
    {
      "cell_type": "markdown",
      "source": [
        "### **Dataset Preparation to be fed to the network**\n"
      ],
      "metadata": {
        "id": "diP_mW2qMmH1"
      }
    },
    {
      "cell_type": "code",
      "source": [
        "train_dataset = TensorDataset(torch.from_numpy(train_images), torch.from_numpy(train_labels))\n",
        "test_dataset = TensorDataset(torch.from_numpy(test_images), torch.from_numpy(test_labels))\n",
        "\n",
        "batch_size = 16\n",
        "train_loader = DataLoader(train_dataset, batch_size=batch_size, shuffle=True)\n",
        "test_loader = DataLoader(test_dataset, batch_size=batch_size, shuffle=False)"
      ],
      "metadata": {
        "id": "ACurEcyGJOx-"
      },
      "execution_count": null,
      "outputs": []
    },
    {
      "cell_type": "markdown",
      "source": [
        "### **Modified ResNet18 architecture**\n",
        "\n",
        "1. The final fully connected layer has been replaced with an MLP\n",
        "2. The forward method has been modified to process two input images separately feeding them to the designed network , concatenate their features, and pass them through the final MLP for delta x and delta y prediction."
      ],
      "metadata": {
        "id": "Z5ELOesyM2jl"
      }
    },
    {
      "cell_type": "code",
      "source": [
        "class BuildingBlock(nn.Module):\n",
        "    def __init__(self, in_channels, out_channels, identity_downsample=None, stride=1):\n",
        "        super(BuildingBlock, self).__init__()\n",
        "        self.conv1 = nn.Conv2d(in_channels, out_channels, kernel_size=3, stride=stride, padding=1)\n",
        "        self.bn1 = nn.BatchNorm2d(out_channels)\n",
        "        self.conv2 = nn.Conv2d(out_channels, out_channels, kernel_size=3, stride=1, padding=1)\n",
        "        self.bn2 = nn.BatchNorm2d(out_channels)\n",
        "        self.relu = nn.ReLU()\n",
        "        self.identity_downsample = identity_downsample\n",
        "\n",
        "    def forward(self, x):\n",
        "        identity = x\n",
        "        x = self.relu(self.bn1(self.conv1(x)))\n",
        "        x = self.bn2(self.conv2(x))\n",
        "\n",
        "        if self.identity_downsample is not None:\n",
        "            identity = self.identity_downsample(identity)\n",
        "\n",
        "        x += identity\n",
        "        x = self.relu(x)\n",
        "\n",
        "        return x"
      ],
      "metadata": {
        "id": "-J-p48uAGgGw"
      },
      "execution_count": null,
      "outputs": []
    },
    {
      "cell_type": "code",
      "source": [
        "class ResNet18(nn.Module):\n",
        "    def __init__(self, num_classes):\n",
        "        super(ResNet18, self).__init__()\n",
        "        self.in_channels = 64\n",
        "\n",
        "        # First Layer\n",
        "        self.conv1 = nn.Conv2d(3, 64, kernel_size=7, stride=2, padding=3)\n",
        "        self.bn1 = nn.BatchNorm2d(64)\n",
        "        self.relu = nn.ReLU()\n",
        "        self.maxpool = nn.MaxPool2d(kernel_size=3, stride=2, padding=1)\n",
        "\n",
        "        # ResNet layers\n",
        "        self.layer1 = self.create_layer(64, 64, stride=1)\n",
        "        self.layer2 = self.create_layer(64, 128, stride=2)\n",
        "        self.layer3 = self.create_layer(128, 256, stride=2)\n",
        "        self.layer4 = self.create_layer(256, 512, stride=2)\n",
        "\n",
        "        # Final Layer\n",
        "        self.avgpool = nn.AdaptiveAvgPool2d((1, 1))\n",
        "\n",
        "        # MLP for regression\n",
        "        self.mlp = nn.Sequential(\n",
        "            nn.Linear(512 * 2, 256),\n",
        "            nn.ReLU(),\n",
        "            nn.Linear(256, 128),\n",
        "            nn.ReLU(),\n",
        "            nn.Linear(128, 2)\n",
        "        )\n",
        "\n",
        "    def create_layer(self, in_channels, out_channels, stride):\n",
        "        identity_downsample = None\n",
        "\n",
        "        if stride != 1:\n",
        "            identity_downsample = nn.Sequential(\n",
        "                nn.Conv2d(in_channels, out_channels, kernel_size=3, stride=2, padding=1),\n",
        "                nn.BatchNorm2d(out_channels)\n",
        "            )\n",
        "\n",
        "        return nn.Sequential(\n",
        "            BuildingBlock(in_channels, out_channels, identity_downsample=identity_downsample, stride=stride),\n",
        "            BuildingBlock(out_channels, out_channels)\n",
        "        )\n",
        "\n",
        "    def forward(self, x):\n",
        "        batch_size = x.size(0)\n",
        "\n",
        "        # rearranging the dimensions of the tensor\n",
        "        # to match the expected input format for the ResNet (batch, channels, height, width).\n",
        "        x1 = x[:, 0, ...].permute(0, 3, 1, 2)\n",
        "        x2 = x[:, 1, ...].permute(0, 3, 1, 2)\n",
        "\n",
        "\n",
        "        x1 = self.relu(self.bn1(self.conv1(x1)))\n",
        "        x1 = self.maxpool(x1)\n",
        "\n",
        "        x2 = self.relu(self.bn1(self.conv1(x2)))\n",
        "        x2 = self.maxpool(x2)\n",
        "\n",
        "        x1 = self.layer1(x1)\n",
        "        x1 = self.layer2(x1)\n",
        "        x1 = self.layer3(x1)\n",
        "        x1 = self.layer4(x1)\n",
        "\n",
        "        x2 = self.layer1(x2)\n",
        "        x2 = self.layer2(x2)\n",
        "        x2 = self.layer3(x2)\n",
        "        x2 = self.layer4(x2)\n",
        "\n",
        "\n",
        "        x = torch.cat((x1, x2), dim=1)\n",
        "        x = self.avgpool(x)\n",
        "        x = torch.flatten(x, 1)\n",
        "        x = self.mlp(x)\n",
        "\n",
        "        return x"
      ],
      "metadata": {
        "id": "P1rHrn5_NfSf"
      },
      "execution_count": null,
      "outputs": []
    },
    {
      "cell_type": "markdown",
      "source": [
        "### **Model Training and Evaluation**"
      ],
      "metadata": {
        "id": "aZuDBDGtNRWJ"
      }
    },
    {
      "cell_type": "code",
      "source": [
        "def train(model, train_loader, criterion, optimizer, device):\n",
        "    model.train()\n",
        "    running_loss = 0.0\n",
        "    for images, labels in train_loader:\n",
        "        images, labels = images.float().to(device), labels.float().to(device)\n",
        "        optimizer.zero_grad()\n",
        "        outputs = model(images)\n",
        "        loss = criterion(outputs, labels)\n",
        "        loss.backward()\n",
        "        optimizer.step()\n",
        "        running_loss += loss.item() * images.size(0)\n",
        "    return running_loss / len(train_loader.dataset)\n",
        "\n",
        "def test(model, test_loader, criterion, device):\n",
        "    model.eval()\n",
        "    running_loss = 0.0\n",
        "    with torch.no_grad():\n",
        "        for images, labels in test_loader:\n",
        "            images, labels = images.float().to(device), labels.float().to(device)\n",
        "            outputs = model(images)\n",
        "            loss = criterion(outputs, labels)\n",
        "            running_loss += loss.item() * images.size(0)\n",
        "    return running_loss / len(test_loader.dataset)\n"
      ],
      "metadata": {
        "id": "XZzhOMuLpEZs"
      },
      "execution_count": null,
      "outputs": []
    },
    {
      "cell_type": "code",
      "source": [
        "import matplotlib.pyplot as plt\n",
        "\n",
        "\n",
        "model = ResNet18()\n",
        "device = torch.device(\"cuda\" if torch.cuda.is_available() else \"cpu\")\n",
        "model.to(device)\n",
        "\n",
        "criterion = nn.MSELoss()\n",
        "optimizer = optim.Adam(model.parameters(), lr=0.001)\n",
        "\n",
        "num_epochs = 10\n",
        "train_losses = []\n",
        "test_losses = []\n",
        "\n",
        "for epoch in range(num_epochs):\n",
        "    train_loss = train(model, train_loader, criterion, optimizer, device)\n",
        "    test_loss = test(model, test_loader, criterion, device)\n",
        "    train_losses.append(train_loss)\n",
        "    test_losses.append(test_loss)\n",
        "    print(f\"Epoch [{epoch+1}/{num_epochs}], Train Loss: {train_loss:.4f}, Test Loss: {test_loss:.4f}\")\n",
        "\n",
        "plt.figure(figsize=(10, 5))\n",
        "plt.plot(range(1, num_epochs+1), train_losses, label='Train Loss')\n",
        "plt.plot(range(1, num_epochs+1), test_losses, label='Test Loss')\n",
        "plt.title('Training and Testing Loss')\n",
        "plt.xlabel('Epoch')\n",
        "plt.ylabel('Loss')\n",
        "plt.legend()\n",
        "plt.show()\n"
      ],
      "metadata": {
        "colab": {
          "base_uri": "https://localhost:8080/",
          "height": 669
        },
        "id": "zcNHHXpHmOyF",
        "outputId": "b1fbf22f-fbaa-443e-9aad-bdca74c639b9"
      },
      "execution_count": null,
      "outputs": [
        {
          "output_type": "stream",
          "name": "stdout",
          "text": [
            "Epoch [1/10], Train Loss: 0.0025, Test Loss: 0.0013\n",
            "Epoch [2/10], Train Loss: 0.0005, Test Loss: 0.0039\n",
            "Epoch [3/10], Train Loss: 0.0005, Test Loss: 0.0012\n",
            "Epoch [4/10], Train Loss: 0.0003, Test Loss: 0.0008\n",
            "Epoch [5/10], Train Loss: 0.0002, Test Loss: 0.0031\n",
            "Epoch [6/10], Train Loss: 0.0002, Test Loss: 0.0017\n",
            "Epoch [7/10], Train Loss: 0.0001, Test Loss: 0.0010\n",
            "Epoch [8/10], Train Loss: 0.0001, Test Loss: 0.0010\n",
            "Epoch [9/10], Train Loss: 0.0001, Test Loss: 0.0010\n",
            "Epoch [10/10], Train Loss: 0.0001, Test Loss: 0.0010\n"
          ]
        },
        {
          "output_type": "display_data",
          "data": {
            "text/plain": [
              "<Figure size 1000x500 with 1 Axes>"
            ],
            "image/png": "[encoded data removed]"
          },
          "metadata": {}
        }
      ]
    }
  ]
}